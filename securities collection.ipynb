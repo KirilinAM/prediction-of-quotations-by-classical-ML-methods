{
 "cells": [
  {
   "cell_type": "code",
   "execution_count": 2,
   "metadata": {},
   "outputs": [],
   "source": [
    "import requests as rq\n",
    "import pandas as pd"
   ]
  },
  {
   "cell_type": "markdown",
   "metadata": {},
   "source": [
    "# Сбор инструментов"
   ]
  },
  {
   "cell_type": "code",
   "execution_count": null,
   "metadata": {},
   "outputs": [],
   "source": [
    "allow_engine = ['stock']\n",
    "allow_market = ['shares','bonds']\n",
    "\n",
    "def _get_securites_df_with_fixed_engine_market_step_start(engine,market,step,start):\n",
    "    response = rq.get(\n",
    "        'https://iss.moex.com/iss/securities.json'\n",
    "        ,params={\n",
    "            'engine': engine\n",
    "            ,'market': market\n",
    "            ,'limit': step\n",
    "            ,'start': start\n",
    "        }\n",
    "    )\n",
    "    response_securities = response.json()['securities']\n",
    "    return pd.DataFrame(columns=response_securities['columns'],data=response_securities['data'])\n",
    "\n",
    "# _get_securites_df_with_fixed_engine_market_step_start('stock','shares',5,100)\n",
    "\n",
    "def _get_securites_df_with_fixed_engine_market_limit(engine,market,limit,used_step=100):\n",
    "    step = used_step\n",
    "    dfs = []\n",
    "    for start in range(0,limit+1,step):\n",
    "        step_result = _get_securites_df_with_fixed_engine_market_step_start(engine,market,step,start)\n",
    "        if len(step_result) == 0:\n",
    "            break\n",
    "        dfs.append(step_result)\n",
    "    return pd.concat(dfs,ignore_index=True)\n",
    "\n",
    "df = _get_securites_df_with_fixed_engine_market_limit('stock','shares',9999)\n",
    "df.head()"
   ]
  },
  {
   "cell_type": "code",
   "execution_count": null,
   "metadata": {},
   "outputs": [
    {
     "data": {
      "text/html": [
       "<div>\n",
       "<style scoped>\n",
       "    .dataframe tbody tr th:only-of-type {\n",
       "        vertical-align: middle;\n",
       "    }\n",
       "\n",
       "    .dataframe tbody tr th {\n",
       "        vertical-align: top;\n",
       "    }\n",
       "\n",
       "    .dataframe thead th {\n",
       "        text-align: right;\n",
       "    }\n",
       "</style>\n",
       "<table border=\"1\" class=\"dataframe\">\n",
       "  <thead>\n",
       "    <tr style=\"text-align: right;\">\n",
       "      <th></th>\n",
       "      <th>secid</th>\n",
       "      <th>isin</th>\n",
       "      <th>marketprice_boardid</th>\n",
       "      <th>name</th>\n",
       "      <th>emitent_id</th>\n",
       "      <th>emitent_title</th>\n",
       "      <th>type</th>\n",
       "      <th>group</th>\n",
       "    </tr>\n",
       "  </thead>\n",
       "  <tbody>\n",
       "    <tr>\n",
       "      <th>0</th>\n",
       "      <td>ABIO</td>\n",
       "      <td>RU000A0JNAB6</td>\n",
       "      <td>TQBR</td>\n",
       "      <td>ПАО \"Артген\"</td>\n",
       "      <td>1142.0</td>\n",
       "      <td>Публичное акционерное общество \"Артген биотех\"</td>\n",
       "      <td>common_share</td>\n",
       "      <td>stock_shares</td>\n",
       "    </tr>\n",
       "    <tr>\n",
       "      <th>1</th>\n",
       "      <td>ABRD</td>\n",
       "      <td>RU000A0JS5T7</td>\n",
       "      <td>TQBR</td>\n",
       "      <td>Абрау-Дюрсо ПАО ао</td>\n",
       "      <td>4787.0</td>\n",
       "      <td>Публичное акционерное общество \"Абрау – Дюрсо\"</td>\n",
       "      <td>common_share</td>\n",
       "      <td>stock_shares</td>\n",
       "    </tr>\n",
       "    <tr>\n",
       "      <th>2</th>\n",
       "      <td>ACKO</td>\n",
       "      <td>RU000A0JXS91</td>\n",
       "      <td>TQBR</td>\n",
       "      <td>АСКО ПАО ао</td>\n",
       "      <td>9314.0</td>\n",
       "      <td>Публичное акционерное общество \"АСКО\"</td>\n",
       "      <td>common_share</td>\n",
       "      <td>stock_shares</td>\n",
       "    </tr>\n",
       "    <tr>\n",
       "      <th>3</th>\n",
       "      <td>AFKS</td>\n",
       "      <td>RU000A0DQZE3</td>\n",
       "      <td>TQBR</td>\n",
       "      <td>АФК \"Система\" ПАО ао</td>\n",
       "      <td>777.0</td>\n",
       "      <td>Публичное акционерное общество \"Акционерная фи...</td>\n",
       "      <td>common_share</td>\n",
       "      <td>stock_shares</td>\n",
       "    </tr>\n",
       "    <tr>\n",
       "      <th>4</th>\n",
       "      <td>AFLT</td>\n",
       "      <td>RU0009062285</td>\n",
       "      <td>TQBR</td>\n",
       "      <td>Аэрофлот-росс.авиалин(ПАО)ао</td>\n",
       "      <td>1242.0</td>\n",
       "      <td>Публичное акционерное общество \"Аэрофлот – рос...</td>\n",
       "      <td>common_share</td>\n",
       "      <td>stock_shares</td>\n",
       "    </tr>\n",
       "  </tbody>\n",
       "</table>\n",
       "</div>"
      ],
      "text/plain": [
       "  secid          isin marketprice_boardid                          name  \\\n",
       "0  ABIO  RU000A0JNAB6                TQBR                  ПАО \"Артген\"   \n",
       "1  ABRD  RU000A0JS5T7                TQBR            Абрау-Дюрсо ПАО ао   \n",
       "2  ACKO  RU000A0JXS91                TQBR                   АСКО ПАО ао   \n",
       "3  AFKS  RU000A0DQZE3                TQBR          АФК \"Система\" ПАО ао   \n",
       "4  AFLT  RU0009062285                TQBR  Аэрофлот-росс.авиалин(ПАО)ао   \n",
       "\n",
       "   emitent_id                                      emitent_title  \\\n",
       "0      1142.0     Публичное акционерное общество \"Артген биотех\"   \n",
       "1      4787.0     Публичное акционерное общество \"Абрау – Дюрсо\"   \n",
       "2      9314.0              Публичное акционерное общество \"АСКО\"   \n",
       "3       777.0  Публичное акционерное общество \"Акционерная фи...   \n",
       "4      1242.0  Публичное акционерное общество \"Аэрофлот – рос...   \n",
       "\n",
       "           type         group  \n",
       "0  common_share  stock_shares  \n",
       "1  common_share  stock_shares  \n",
       "2  common_share  stock_shares  \n",
       "3  common_share  stock_shares  \n",
       "4  common_share  stock_shares  "
      ]
     },
     "execution_count": 19,
     "metadata": {},
     "output_type": "execute_result"
    }
   ],
   "source": [
    "df_for_save = df[['secid','isin','marketprice_boardid','name','emitent_id','emitent_title','type','group']]\n",
    "df_for_save.head()"
   ]
  },
  {
   "cell_type": "code",
   "execution_count": 21,
   "metadata": {},
   "outputs": [],
   "source": [
    "df_for_save.to_csv('data/securities')"
   ]
  }
 ],
 "metadata": {
  "kernelspec": {
   "display_name": "prediction_of_quotations_by_classical_ML_m-AunGMgsl",
   "language": "python",
   "name": "python3"
  },
  "language_info": {
   "codemirror_mode": {
    "name": "ipython",
    "version": 3
   },
   "file_extension": ".py",
   "mimetype": "text/x-python",
   "name": "python",
   "nbconvert_exporter": "python",
   "pygments_lexer": "ipython3",
   "version": "3.11.2"
  }
 },
 "nbformat": 4,
 "nbformat_minor": 2
}
